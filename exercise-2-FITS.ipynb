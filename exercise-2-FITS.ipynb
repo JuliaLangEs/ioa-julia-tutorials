{
 "metadata": {
  "celltoolbar": "Slideshow",
  "language": "Julia",
  "name": "",
  "signature": "sha256:de6bca01f9ef9a6d069bbddabf1756c3d4aa3645eeff83631c6c92bd19543427"
 },
 "nbformat": 3,
 "nbformat_minor": 0,
 "worksheets": [
  {
   "cells": [
    {
     "cell_type": "markdown",
     "metadata": {
      "slideshow": {
       "slide_type": "slide"
      }
     },
     "source": [
      "# Exercise 2: Working with FITS images\n",
      "\n",
      "Managing FITS files is a big deal if you're an observer. Is the interface in Julia any good for this?\n",
      "\n",
      "Task:\n",
      "\n",
      "* load in a FITS image\n",
      "* display it on the screen using matplotlib's imshow\n",
      "* get the following information from the image: \n",
      "    * minimum pixel value using `minimum` function\n",
      "    * position of brightest pixel(s)\n",
      "* set all pixels with negative values to zero\n",
      "* write it back\n",
      "    \n",
      "[The fits file used](data/fits-image.fits) was downloaded from [NASA's sample FITS page](http://fits.gsfc.nasa.gov/fits_samples.html) (the [HST WFPC II file](http://fits.gsfc.nasa.gov/samples/WFPC2ASSNu5780205bx.fits))."
     ]
    },
    {
     "cell_type": "code",
     "collapsed": false,
     "input": [
      "# load in astropy\n",
      "using PyCall\n",
      "@pyimport astropy.io.fits as pyf"
     ],
     "language": "python",
     "metadata": {
      "slideshow": {
       "slide_type": "slide"
      }
     },
     "outputs": [],
     "prompt_number": 1
    },
    {
     "cell_type": "code",
     "collapsed": false,
     "input": [
      "# set up plotting\n",
      "using PyPlot\n",
      "cmap = get_cmap(\"gist_stern\")"
     ],
     "language": "python",
     "metadata": {},
     "outputs": [
      {
       "metadata": {},
       "output_type": "pyout",
       "prompt_number": 2,
       "svg": [
        "<?xml version\"1.0\" encoding=\"UTF-8\"?>\n",
        "<!DOCTYPE svg PUBLIC \"-//W3C//DTD SVG 1.1//EN\"\n",
        " \"http://www.w3.org/Graphics/SVG/1.1/DTD/svg11.dtd\">\n",
        "<svg xmlns=\"http://www.w3.org/2000/svg\" version=\"1.1\"\n",
        "     width=\"169.0mm\" height=\"5.5mm\"\n",
        "     shape-rendering=\"crispEdges\">\n",
        "<text x=\"129.0mm\" y=\"3.8mm\" font-size=\"3mm\">gist_stern</text><rect x=\"0.0mm\" y=\"0.0mm\" width=\"0.5mm\" height=\"5mm\" fill=\"#000000\" stroke=\"none\" /><rect x=\"0.5mm\" y=\"0.0mm\" width=\"0.5mm\" height=\"5mm\" fill=\"#120102\" stroke=\"none\" /><rect x=\"1.0mm\" y=\"0.0mm\" width=\"0.5mm\" height=\"5mm\" fill=\"#250204\" stroke=\"none\" /><rect x=\"1.5mm\" y=\"0.0mm\" width=\"0.5mm\" height=\"5mm\" fill=\"#370306\" stroke=\"none\" /><rect x=\"2.0mm\" y=\"0.0mm\" width=\"0.5mm\" height=\"5mm\" fill=\"#490408\" stroke=\"none\" /><rect x=\"2.5mm\" y=\"0.0mm\" width=\"0.5mm\" height=\"5mm\" fill=\"#5B050A\" stroke=\"none\" /><rect x=\"3.0mm\" y=\"0.0mm\" width=\"0.5mm\" height=\"5mm\" fill=\"#6E060C\" stroke=\"none\" /><rect x=\"3.5mm\" y=\"0.0mm\" width=\"0.5mm\" height=\"5mm\" fill=\"#80070E\" stroke=\"none\" /><rect x=\"4.0mm\" y=\"0.0mm\" width=\"0.5mm\" height=\"5mm\" fill=\"#920810\" stroke=\"none\" /><rect x=\"4.5mm\" y=\"0.0mm\" width=\"0.5mm\" height=\"5mm\" fill=\"#A50912\" stroke=\"none\" /><rect x=\"5.0mm\" y=\"0.0mm\" width=\"0.5mm\" height=\"5mm\" fill=\"#B70A14\" stroke=\"none\" /><rect x=\"5.5mm\" y=\"0.0mm\" width=\"0.5mm\" height=\"5mm\" fill=\"#C90B16\" stroke=\"none\" /><rect x=\"6.0mm\" y=\"0.0mm\" width=\"0.5mm\" height=\"5mm\" fill=\"#DB0C18\" stroke=\"none\" /><rect x=\"6.5mm\" y=\"0.0mm\" width=\"0.5mm\" height=\"5mm\" fill=\"#EE0D1A\" stroke=\"none\" /><rect x=\"7.0mm\" y=\"0.0mm\" width=\"0.5mm\" height=\"5mm\" fill=\"#FF0E1C\" stroke=\"none\" /><rect x=\"7.5mm\" y=\"0.0mm\" width=\"0.5mm\" height=\"5mm\" fill=\"#FA0F1E\" stroke=\"none\" /><rect x=\"8.0mm\" y=\"0.0mm\" width=\"0.5mm\" height=\"5mm\" fill=\"#F51020\" stroke=\"none\" /><rect x=\"8.5mm\" y=\"0.0mm\" width=\"0.5mm\" height=\"5mm\" fill=\"#F01122\" stroke=\"none\" /><rect x=\"9.0mm\" y=\"0.0mm\" width=\"0.5mm\" height=\"5mm\" fill=\"#EB1224\" stroke=\"none\" /><rect x=\"9.5mm\" y=\"0.0mm\" width=\"0.5mm\" height=\"5mm\" fill=\"#E61326\" stroke=\"none\" /><rect x=\"10.0mm\" y=\"0.0mm\" width=\"0.5mm\" height=\"5mm\" fill=\"#E11428\" stroke=\"none\" /><rect x=\"10.5mm\" y=\"0.0mm\" width=\"0.5mm\" height=\"5mm\" fill=\"#DC152A\" stroke=\"none\" /><rect x=\"11.0mm\" y=\"0.0mm\" width=\"0.5mm\" height=\"5mm\" fill=\"#D7162C\" stroke=\"none\" /><rect x=\"11.5mm\" y=\"0.0mm\" width=\"0.5mm\" height=\"5mm\" fill=\"#D2172E\" stroke=\"none\" /><rect x=\"12.0mm\" y=\"0.0mm\" width=\"0.5mm\" height=\"5mm\" fill=\"#CD1830\" stroke=\"none\" /><rect x=\"12.5mm\" y=\"0.0mm\" width=\"0.5mm\" height=\"5mm\" fill=\"#C81932\" stroke=\"none\" /><rect x=\"13.0mm\" y=\"0.0mm\" width=\"0.5mm\" height=\"5mm\" fill=\"#C31A34\" stroke=\"none\" /><rect x=\"13.5mm\" y=\"0.0mm\" width=\"0.5mm\" height=\"5mm\" fill=\"#BE1B36\" stroke=\"none\" /><rect x=\"14.0mm\" y=\"0.0mm\" width=\"0.5mm\" height=\"5mm\" fill=\"#B91C38\" stroke=\"none\" /><rect x=\"14.5mm\" y=\"0.0mm\" width=\"0.5mm\" height=\"5mm\" fill=\"#B41D3A\" stroke=\"none\" /><rect x=\"15.0mm\" y=\"0.0mm\" width=\"0.5mm\" height=\"5mm\" fill=\"#AF1E3C\" stroke=\"none\" /><rect x=\"15.5mm\" y=\"0.0mm\" width=\"0.5mm\" height=\"5mm\" fill=\"#AA1F3E\" stroke=\"none\" /><rect x=\"16.0mm\" y=\"0.0mm\" width=\"0.5mm\" height=\"5mm\" fill=\"#A52040\" stroke=\"none\" /><rect x=\"16.5mm\" y=\"0.0mm\" width=\"0.5mm\" height=\"5mm\" fill=\"#A02142\" stroke=\"none\" /><rect x=\"17.0mm\" y=\"0.0mm\" width=\"0.5mm\" height=\"5mm\" fill=\"#9B2244\" stroke=\"none\" /><rect x=\"17.5mm\" y=\"0.0mm\" width=\"0.5mm\" height=\"5mm\" fill=\"#962346\" stroke=\"none\" /><rect x=\"18.0mm\" y=\"0.0mm\" width=\"0.5mm\" height=\"5mm\" fill=\"#912448\" stroke=\"none\" /><rect x=\"18.5mm\" y=\"0.0mm\" width=\"0.5mm\" height=\"5mm\" fill=\"#8C254A\" stroke=\"none\" /><rect x=\"19.0mm\" y=\"0.0mm\" width=\"0.5mm\" height=\"5mm\" fill=\"#87264C\" stroke=\"none\" /><rect x=\"19.5mm\" y=\"0.0mm\" width=\"0.5mm\" height=\"5mm\" fill=\"#82274E\" stroke=\"none\" /><rect x=\"20.0mm\" y=\"0.0mm\" width=\"0.5mm\" height=\"5mm\" fill=\"#7D2850\" stroke=\"none\" /><rect x=\"20.5mm\" y=\"0.0mm\" width=\"0.5mm\" height=\"5mm\" fill=\"#782952\" stroke=\"none\" /><rect x=\"21.0mm\" y=\"0.0mm\" width=\"0.5mm\" height=\"5mm\" fill=\"#732A54\" stroke=\"none\" /><rect x=\"21.5mm\" y=\"0.0mm\" width=\"0.5mm\" height=\"5mm\" fill=\"#6E2B56\" stroke=\"none\" /><rect x=\"22.0mm\" y=\"0.0mm\" width=\"0.5mm\" height=\"5mm\" fill=\"#692C58\" stroke=\"none\" /><rect x=\"22.5mm\" y=\"0.0mm\" width=\"0.5mm\" height=\"5mm\" fill=\"#642D5A\" stroke=\"none\" /><rect x=\"23.0mm\" y=\"0.0mm\" width=\"0.5mm\" height=\"5mm\" fill=\"#5F2E5C\" stroke=\"none\" /><rect x=\"23.5mm\" y=\"0.0mm\" width=\"0.5mm\" height=\"5mm\" fill=\"#5A2F5E\" stroke=\"none\" /><rect x=\"24.0mm\" y=\"0.0mm\" width=\"0.5mm\" height=\"5mm\" fill=\"#553060\" stroke=\"none\" /><rect x=\"24.5mm\" y=\"0.0mm\" width=\"0.5mm\" height=\"5mm\" fill=\"#503162\" stroke=\"none\" /><rect x=\"25.0mm\" y=\"0.0mm\" width=\"0.5mm\" height=\"5mm\" fill=\"#4B3264\" stroke=\"none\" /><rect x=\"25.5mm\" y=\"0.0mm\" width=\"0.5mm\" height=\"5mm\" fill=\"#463366\" stroke=\"none\" /><rect x=\"26.0mm\" y=\"0.0mm\" width=\"0.5mm\" height=\"5mm\" fill=\"#413468\" stroke=\"none\" /><rect x=\"26.5mm\" y=\"0.0mm\" width=\"0.5mm\" height=\"5mm\" fill=\"#3C356A\" stroke=\"none\" /><rect x=\"27.0mm\" y=\"0.0mm\" width=\"0.5mm\" height=\"5mm\" fill=\"#37366C\" stroke=\"none\" /><rect x=\"27.5mm\" y=\"0.0mm\" width=\"0.5mm\" height=\"5mm\" fill=\"#32376E\" stroke=\"none\" /><rect x=\"28.0mm\" y=\"0.0mm\" width=\"0.5mm\" height=\"5mm\" fill=\"#2D3870\" stroke=\"none\" /><rect x=\"28.5mm\" y=\"0.0mm\" width=\"0.5mm\" height=\"5mm\" fill=\"#293972\" stroke=\"none\" /><rect x=\"29.0mm\" y=\"0.0mm\" width=\"0.5mm\" height=\"5mm\" fill=\"#243A74\" stroke=\"none\" /><rect x=\"29.5mm\" y=\"0.0mm\" width=\"0.5mm\" height=\"5mm\" fill=\"#1F3B76\" stroke=\"none\" /><rect x=\"30.0mm\" y=\"0.0mm\" width=\"0.5mm\" height=\"5mm\" fill=\"#1A3C78\" stroke=\"none\" /><rect x=\"30.5mm\" y=\"0.0mm\" width=\"0.5mm\" height=\"5mm\" fill=\"#153D7A\" stroke=\"none\" /><rect x=\"31.0mm\" y=\"0.0mm\" width=\"0.5mm\" height=\"5mm\" fill=\"#103E7C\" stroke=\"none\" /><rect x=\"31.5mm\" y=\"0.0mm\" width=\"0.5mm\" height=\"5mm\" fill=\"#0B3F7E\" stroke=\"none\" /><rect x=\"32.0mm\" y=\"0.0mm\" width=\"0.5mm\" height=\"5mm\" fill=\"#404080\" stroke=\"none\" /><rect x=\"32.5mm\" y=\"0.0mm\" width=\"0.5mm\" height=\"5mm\" fill=\"#414182\" stroke=\"none\" /><rect x=\"33.0mm\" y=\"0.0mm\" width=\"0.5mm\" height=\"5mm\" fill=\"#424284\" stroke=\"none\" /><rect x=\"33.5mm\" y=\"0.0mm\" width=\"0.5mm\" height=\"5mm\" fill=\"#434386\" stroke=\"none\" /><rect x=\"34.0mm\" y=\"0.0mm\" width=\"0.5mm\" height=\"5mm\" fill=\"#444488\" stroke=\"none\" /><rect x=\"34.5mm\" y=\"0.0mm\" width=\"0.5mm\" height=\"5mm\" fill=\"#45458A\" stroke=\"none\" /><rect x=\"35.0mm\" y=\"0.0mm\" width=\"0.5mm\" height=\"5mm\" fill=\"#46468C\" stroke=\"none\" /><rect x=\"35.5mm\" y=\"0.0mm\" width=\"0.5mm\" height=\"5mm\" fill=\"#47478E\" stroke=\"none\" /><rect x=\"36.0mm\" y=\"0.0mm\" width=\"0.5mm\" height=\"5mm\" fill=\"#484890\" stroke=\"none\" /><rect x=\"36.5mm\" y=\"0.0mm\" width=\"0.5mm\" height=\"5mm\" fill=\"#494992\" stroke=\"none\" /><rect x=\"37.0mm\" y=\"0.0mm\" width=\"0.5mm\" height=\"5mm\" fill=\"#4A4A94\" stroke=\"none\" /><rect x=\"37.5mm\" y=\"0.0mm\" width=\"0.5mm\" height=\"5mm\" fill=\"#4B4B96\" stroke=\"none\" /><rect x=\"38.0mm\" y=\"0.0mm\" width=\"0.5mm\" height=\"5mm\" fill=\"#4C4C98\" stroke=\"none\" /><rect x=\"38.5mm\" y=\"0.0mm\" width=\"0.5mm\" height=\"5mm\" fill=\"#4D4D9A\" stroke=\"none\" /><rect x=\"39.0mm\" y=\"0.0mm\" width=\"0.5mm\" height=\"5mm\" fill=\"#4E4E9C\" stroke=\"none\" /><rect x=\"39.5mm\" y=\"0.0mm\" width=\"0.5mm\" height=\"5mm\" fill=\"#4F4F9E\" stroke=\"none\" /><rect x=\"40.0mm\" y=\"0.0mm\" width=\"0.5mm\" height=\"5mm\" fill=\"#5050A0\" stroke=\"none\" /><rect x=\"40.5mm\" y=\"0.0mm\" width=\"0.5mm\" height=\"5mm\" fill=\"#5151A2\" stroke=\"none\" /><rect x=\"41.0mm\" y=\"0.0mm\" width=\"0.5mm\" height=\"5mm\" fill=\"#5252A4\" stroke=\"none\" /><rect x=\"41.5mm\" y=\"0.0mm\" width=\"0.5mm\" height=\"5mm\" fill=\"#5353A6\" stroke=\"none\" /><rect x=\"42.0mm\" y=\"0.0mm\" width=\"0.5mm\" height=\"5mm\" fill=\"#5454A8\" stroke=\"none\" /><rect x=\"42.5mm\" y=\"0.0mm\" width=\"0.5mm\" height=\"5mm\" fill=\"#5555AA\" stroke=\"none\" /><rect x=\"43.0mm\" y=\"0.0mm\" width=\"0.5mm\" height=\"5mm\" fill=\"#5656AC\" stroke=\"none\" /><rect x=\"43.5mm\" y=\"0.0mm\" width=\"0.5mm\" height=\"5mm\" fill=\"#5757AE\" stroke=\"none\" /><rect x=\"44.0mm\" y=\"0.0mm\" width=\"0.5mm\" height=\"5mm\" fill=\"#5858B0\" stroke=\"none\" /><rect x=\"44.5mm\" y=\"0.0mm\" width=\"0.5mm\" height=\"5mm\" fill=\"#5959B2\" stroke=\"none\" /><rect x=\"45.0mm\" y=\"0.0mm\" width=\"0.5mm\" height=\"5mm\" fill=\"#5A5AB4\" stroke=\"none\" /><rect x=\"45.5mm\" y=\"0.0mm\" width=\"0.5mm\" height=\"5mm\" fill=\"#5B5BB6\" stroke=\"none\" /><rect x=\"46.0mm\" y=\"0.0mm\" width=\"0.5mm\" height=\"5mm\" fill=\"#5C5CB8\" stroke=\"none\" /><rect x=\"46.5mm\" y=\"0.0mm\" width=\"0.5mm\" height=\"5mm\" fill=\"#5D5DBA\" stroke=\"none\" /><rect x=\"47.0mm\" y=\"0.0mm\" width=\"0.5mm\" height=\"5mm\" fill=\"#5E5EBC\" stroke=\"none\" /><rect x=\"47.5mm\" y=\"0.0mm\" width=\"0.5mm\" height=\"5mm\" fill=\"#5F5FBE\" stroke=\"none\" /><rect x=\"48.0mm\" y=\"0.0mm\" width=\"0.5mm\" height=\"5mm\" fill=\"#6060C0\" stroke=\"none\" /><rect x=\"48.5mm\" y=\"0.0mm\" width=\"0.5mm\" height=\"5mm\" fill=\"#6161C2\" stroke=\"none\" /><rect x=\"49.0mm\" y=\"0.0mm\" width=\"0.5mm\" height=\"5mm\" fill=\"#6262C4\" stroke=\"none\" /><rect x=\"49.5mm\" y=\"0.0mm\" width=\"0.5mm\" height=\"5mm\" fill=\"#6363C6\" stroke=\"none\" /><rect x=\"50.0mm\" y=\"0.0mm\" width=\"0.5mm\" height=\"5mm\" fill=\"#6464C8\" stroke=\"none\" /><rect x=\"50.5mm\" y=\"0.0mm\" width=\"0.5mm\" height=\"5mm\" fill=\"#6565CA\" stroke=\"none\" /><rect x=\"51.0mm\" y=\"0.0mm\" width=\"0.5mm\" height=\"5mm\" fill=\"#6666CC\" stroke=\"none\" /><rect x=\"51.5mm\" y=\"0.0mm\" width=\"0.5mm\" height=\"5mm\" fill=\"#6767CE\" stroke=\"none\" /><rect x=\"52.0mm\" y=\"0.0mm\" width=\"0.5mm\" height=\"5mm\" fill=\"#6868D0\" stroke=\"none\" /><rect x=\"52.5mm\" y=\"0.0mm\" width=\"0.5mm\" height=\"5mm\" fill=\"#6969D2\" stroke=\"none\" /><rect x=\"53.0mm\" y=\"0.0mm\" width=\"0.5mm\" height=\"5mm\" fill=\"#6A6AD4\" stroke=\"none\" /><rect x=\"53.5mm\" y=\"0.0mm\" width=\"0.5mm\" height=\"5mm\" fill=\"#6B6BD6\" stroke=\"none\" /><rect x=\"54.0mm\" y=\"0.0mm\" width=\"0.5mm\" height=\"5mm\" fill=\"#6C6CD8\" stroke=\"none\" /><rect x=\"54.5mm\" y=\"0.0mm\" width=\"0.5mm\" height=\"5mm\" fill=\"#6D6DDA\" stroke=\"none\" /><rect x=\"55.0mm\" y=\"0.0mm\" width=\"0.5mm\" height=\"5mm\" fill=\"#6E6EDC\" stroke=\"none\" /><rect x=\"55.5mm\" y=\"0.0mm\" width=\"0.5mm\" height=\"5mm\" fill=\"#6F6FDE\" stroke=\"none\" /><rect x=\"56.0mm\" y=\"0.0mm\" width=\"0.5mm\" height=\"5mm\" fill=\"#7070E0\" stroke=\"none\" /><rect x=\"56.5mm\" y=\"0.0mm\" width=\"0.5mm\" height=\"5mm\" fill=\"#7171E2\" stroke=\"none\" /><rect x=\"57.0mm\" y=\"0.0mm\" width=\"0.5mm\" height=\"5mm\" fill=\"#7272E4\" stroke=\"none\" /><rect x=\"57.5mm\" y=\"0.0mm\" width=\"0.5mm\" height=\"5mm\" fill=\"#7373E6\" stroke=\"none\" /><rect x=\"58.0mm\" y=\"0.0mm\" width=\"0.5mm\" height=\"5mm\" fill=\"#7474E8\" stroke=\"none\" /><rect x=\"58.5mm\" y=\"0.0mm\" width=\"0.5mm\" height=\"5mm\" fill=\"#7575EA\" stroke=\"none\" /><rect x=\"59.0mm\" y=\"0.0mm\" width=\"0.5mm\" height=\"5mm\" fill=\"#7676EC\" stroke=\"none\" /><rect x=\"59.5mm\" y=\"0.0mm\" width=\"0.5mm\" height=\"5mm\" fill=\"#7777EE\" stroke=\"none\" /><rect x=\"60.0mm\" y=\"0.0mm\" width=\"0.5mm\" height=\"5mm\" fill=\"#7878F0\" stroke=\"none\" /><rect x=\"60.5mm\" y=\"0.0mm\" width=\"0.5mm\" height=\"5mm\" fill=\"#7979F2\" stroke=\"none\" /><rect x=\"61.0mm\" y=\"0.0mm\" width=\"0.5mm\" height=\"5mm\" fill=\"#7A7AF4\" stroke=\"none\" /><rect x=\"61.5mm\" y=\"0.0mm\" width=\"0.5mm\" height=\"5mm\" fill=\"#7B7BF6\" stroke=\"none\" /><rect x=\"62.0mm\" y=\"0.0mm\" width=\"0.5mm\" height=\"5mm\" fill=\"#7C7CF8\" stroke=\"none\" /><rect x=\"62.5mm\" y=\"0.0mm\" width=\"0.5mm\" height=\"5mm\" fill=\"#7D7DFA\" stroke=\"none\" /><rect x=\"63.0mm\" y=\"0.0mm\" width=\"0.5mm\" height=\"5mm\" fill=\"#7E7EFC\" stroke=\"none\" /><rect x=\"63.5mm\" y=\"0.0mm\" width=\"0.5mm\" height=\"5mm\" fill=\"#7F7FFE\" stroke=\"none\" /><rect x=\"64.0mm\" y=\"0.0mm\" width=\"0.5mm\" height=\"5mm\" fill=\"#8080FD\" stroke=\"none\" /><rect x=\"64.5mm\" y=\"0.0mm\" width=\"0.5mm\" height=\"5mm\" fill=\"#8181F9\" stroke=\"none\" /><rect x=\"65.0mm\" y=\"0.0mm\" width=\"0.5mm\" height=\"5mm\" fill=\"#8282F4\" stroke=\"none\" /><rect x=\"65.5mm\" y=\"0.0mm\" width=\"0.5mm\" height=\"5mm\" fill=\"#8383F0\" stroke=\"none\" /><rect x=\"66.0mm\" y=\"0.0mm\" width=\"0.5mm\" height=\"5mm\" fill=\"#8484EC\" stroke=\"none\" /><rect x=\"66.5mm\" y=\"0.0mm\" width=\"0.5mm\" height=\"5mm\" fill=\"#8585E8\" stroke=\"none\" /><rect x=\"67.0mm\" y=\"0.0mm\" width=\"0.5mm\" height=\"5mm\" fill=\"#8686E3\" stroke=\"none\" /><rect x=\"67.5mm\" y=\"0.0mm\" width=\"0.5mm\" height=\"5mm\" fill=\"#8787DF\" stroke=\"none\" /><rect x=\"68.0mm\" y=\"0.0mm\" width=\"0.5mm\" height=\"5mm\" fill=\"#8888DB\" stroke=\"none\" /><rect x=\"68.5mm\" y=\"0.0mm\" width=\"0.5mm\" height=\"5mm\" fill=\"#8989D7\" stroke=\"none\" /><rect x=\"69.0mm\" y=\"0.0mm\" width=\"0.5mm\" height=\"5mm\" fill=\"#8A8AD2\" stroke=\"none\" /><rect x=\"69.5mm\" y=\"0.0mm\" width=\"0.5mm\" height=\"5mm\" fill=\"#8B8BCE\" stroke=\"none\" /><rect x=\"70.0mm\" y=\"0.0mm\" width=\"0.5mm\" height=\"5mm\" fill=\"#8C8CCA\" stroke=\"none\" /><rect x=\"70.5mm\" y=\"0.0mm\" width=\"0.5mm\" height=\"5mm\" fill=\"#8D8DC6\" stroke=\"none\" /><rect x=\"71.0mm\" y=\"0.0mm\" width=\"0.5mm\" height=\"5mm\" fill=\"#8E8EC1\" stroke=\"none\" /><rect x=\"71.5mm\" y=\"0.0mm\" width=\"0.5mm\" height=\"5mm\" fill=\"#8F8FBD\" stroke=\"none\" /><rect x=\"72.0mm\" y=\"0.0mm\" width=\"0.5mm\" height=\"5mm\" fill=\"#9090B9\" stroke=\"none\" /><rect x=\"72.5mm\" y=\"0.0mm\" width=\"0.5mm\" height=\"5mm\" fill=\"#9191B5\" stroke=\"none\" /><rect x=\"73.0mm\" y=\"0.0mm\" width=\"0.5mm\" height=\"5mm\" fill=\"#9292B0\" stroke=\"none\" /><rect x=\"73.5mm\" y=\"0.0mm\" width=\"0.5mm\" height=\"5mm\" fill=\"#9393AC\" stroke=\"none\" /><rect x=\"74.0mm\" y=\"0.0mm\" width=\"0.5mm\" height=\"5mm\" fill=\"#9494A8\" stroke=\"none\" /><rect x=\"74.5mm\" y=\"0.0mm\" width=\"0.5mm\" height=\"5mm\" fill=\"#9595A4\" stroke=\"none\" /><rect x=\"75.0mm\" y=\"0.0mm\" width=\"0.5mm\" height=\"5mm\" fill=\"#96969F\" stroke=\"none\" /><rect x=\"75.5mm\" y=\"0.0mm\" width=\"0.5mm\" height=\"5mm\" fill=\"#97979B\" stroke=\"none\" /><rect x=\"76.0mm\" y=\"0.0mm\" width=\"0.5mm\" height=\"5mm\" fill=\"#989897\" stroke=\"none\" /><rect x=\"76.5mm\" y=\"0.0mm\" width=\"0.5mm\" height=\"5mm\" fill=\"#999992\" stroke=\"none\" /><rect x=\"77.0mm\" y=\"0.0mm\" width=\"0.5mm\" height=\"5mm\" fill=\"#9A9A8E\" stroke=\"none\" /><rect x=\"77.5mm\" y=\"0.0mm\" width=\"0.5mm\" height=\"5mm\" fill=\"#9B9B8A\" stroke=\"none\" /><rect x=\"78.0mm\" y=\"0.0mm\" width=\"0.5mm\" height=\"5mm\" fill=\"#9C9C86\" stroke=\"none\" /><rect x=\"78.5mm\" y=\"0.0mm\" width=\"0.5mm\" height=\"5mm\" fill=\"#9D9D81\" stroke=\"none\" /><rect x=\"79.0mm\" y=\"0.0mm\" width=\"0.5mm\" height=\"5mm\" fill=\"#9E9E7D\" stroke=\"none\" /><rect x=\"79.5mm\" y=\"0.0mm\" width=\"0.5mm\" height=\"5mm\" fill=\"#9F9F79\" stroke=\"none\" /><rect x=\"80.0mm\" y=\"0.0mm\" width=\"0.5mm\" height=\"5mm\" fill=\"#A0A075\" stroke=\"none\" /><rect x=\"80.5mm\" y=\"0.0mm\" width=\"0.5mm\" height=\"5mm\" fill=\"#A1A170\" stroke=\"none\" /><rect x=\"81.0mm\" y=\"0.0mm\" width=\"0.5mm\" height=\"5mm\" fill=\"#A2A26C\" stroke=\"none\" /><rect x=\"81.5mm\" y=\"0.0mm\" width=\"0.5mm\" height=\"5mm\" fill=\"#A3A368\" stroke=\"none\" /><rect x=\"82.0mm\" y=\"0.0mm\" width=\"0.5mm\" height=\"5mm\" fill=\"#A4A464\" stroke=\"none\" /><rect x=\"82.5mm\" y=\"0.0mm\" width=\"0.5mm\" height=\"5mm\" fill=\"#A5A55F\" stroke=\"none\" /><rect x=\"83.0mm\" y=\"0.0mm\" width=\"0.5mm\" height=\"5mm\" fill=\"#A6A65B\" stroke=\"none\" /><rect x=\"83.5mm\" y=\"0.0mm\" width=\"0.5mm\" height=\"5mm\" fill=\"#A7A757\" stroke=\"none\" /><rect x=\"84.0mm\" y=\"0.0mm\" width=\"0.5mm\" height=\"5mm\" fill=\"#A8A853\" stroke=\"none\" /><rect x=\"84.5mm\" y=\"0.0mm\" width=\"0.5mm\" height=\"5mm\" fill=\"#A9A94E\" stroke=\"none\" /><rect x=\"85.0mm\" y=\"0.0mm\" width=\"0.5mm\" height=\"5mm\" fill=\"#AAAA4A\" stroke=\"none\" /><rect x=\"85.5mm\" y=\"0.0mm\" width=\"0.5mm\" height=\"5mm\" fill=\"#ABAB46\" stroke=\"none\" /><rect x=\"86.0mm\" y=\"0.0mm\" width=\"0.5mm\" height=\"5mm\" fill=\"#ACAC42\" stroke=\"none\" /><rect x=\"86.5mm\" y=\"0.0mm\" width=\"0.5mm\" height=\"5mm\" fill=\"#ADAD3D\" stroke=\"none\" /><rect x=\"87.0mm\" y=\"0.0mm\" width=\"0.5mm\" height=\"5mm\" fill=\"#AEAE39\" stroke=\"none\" /><rect x=\"87.5mm\" y=\"0.0mm\" width=\"0.5mm\" height=\"5mm\" fill=\"#AFAF35\" stroke=\"none\" /><rect x=\"88.0mm\" y=\"0.0mm\" width=\"0.5mm\" height=\"5mm\" fill=\"#B0B031\" stroke=\"none\" /><rect x=\"88.5mm\" y=\"0.0mm\" width=\"0.5mm\" height=\"5mm\" fill=\"#B1B12C\" stroke=\"none\" /><rect x=\"89.0mm\" y=\"0.0mm\" width=\"0.5mm\" height=\"5mm\" fill=\"#B2B228\" stroke=\"none\" /><rect x=\"89.5mm\" y=\"0.0mm\" width=\"0.5mm\" height=\"5mm\" fill=\"#B3B324\" stroke=\"none\" /><rect x=\"90.0mm\" y=\"0.0mm\" width=\"0.5mm\" height=\"5mm\" fill=\"#B4B420\" stroke=\"none\" /><rect x=\"90.5mm\" y=\"0.0mm\" width=\"0.5mm\" height=\"5mm\" fill=\"#B5B51B\" stroke=\"none\" /><rect x=\"91.0mm\" y=\"0.0mm\" width=\"0.5mm\" height=\"5mm\" fill=\"#B6B617\" stroke=\"none\" /><rect x=\"91.5mm\" y=\"0.0mm\" width=\"0.5mm\" height=\"5mm\" fill=\"#B7B713\" stroke=\"none\" /><rect x=\"92.0mm\" y=\"0.0mm\" width=\"0.5mm\" height=\"5mm\" fill=\"#B8B80F\" stroke=\"none\" /><rect x=\"92.5mm\" y=\"0.0mm\" width=\"0.5mm\" height=\"5mm\" fill=\"#B9B90A\" stroke=\"none\" /><rect x=\"93.0mm\" y=\"0.0mm\" width=\"0.5mm\" height=\"5mm\" fill=\"#BABA06\" stroke=\"none\" /><rect x=\"93.5mm\" y=\"0.0mm\" width=\"0.5mm\" height=\"5mm\" fill=\"#BBBB02\" stroke=\"none\" /><rect x=\"94.0mm\" y=\"0.0mm\" width=\"0.5mm\" height=\"5mm\" fill=\"#BCBC02\" stroke=\"none\" /><rect x=\"94.5mm\" y=\"0.0mm\" width=\"0.5mm\" height=\"5mm\" fill=\"#BDBD06\" stroke=\"none\" /><rect x=\"95.0mm\" y=\"0.0mm\" width=\"0.5mm\" height=\"5mm\" fill=\"#BEBE0A\" stroke=\"none\" /><rect x=\"95.5mm\" y=\"0.0mm\" width=\"0.5mm\" height=\"5mm\" fill=\"#BFBF0D\" stroke=\"none\" /><rect x=\"96.0mm\" y=\"0.0mm\" width=\"0.5mm\" height=\"5mm\" fill=\"#C0C011\" stroke=\"none\" /><rect x=\"96.5mm\" y=\"0.0mm\" width=\"0.5mm\" height=\"5mm\" fill=\"#C1C115\" stroke=\"none\" /><rect x=\"97.0mm\" y=\"0.0mm\" width=\"0.5mm\" height=\"5mm\" fill=\"#C2C219\" stroke=\"none\" /><rect x=\"97.5mm\" y=\"0.0mm\" width=\"0.5mm\" height=\"5mm\" fill=\"#C3C31D\" stroke=\"none\" /><rect x=\"98.0mm\" y=\"0.0mm\" width=\"0.5mm\" height=\"5mm\" fill=\"#C4C420\" stroke=\"none\" /><rect x=\"98.5mm\" y=\"0.0mm\" width=\"0.5mm\" height=\"5mm\" fill=\"#C5C524\" stroke=\"none\" /><rect x=\"99.0mm\" y=\"0.0mm\" width=\"0.5mm\" height=\"5mm\" fill=\"#C6C628\" stroke=\"none\" /><rect x=\"99.5mm\" y=\"0.0mm\" width=\"0.5mm\" height=\"5mm\" fill=\"#C7C72C\" stroke=\"none\" /><rect x=\"100.0mm\" y=\"0.0mm\" width=\"0.5mm\" height=\"5mm\" fill=\"#C8C82F\" stroke=\"none\" /><rect x=\"100.5mm\" y=\"0.0mm\" width=\"0.5mm\" height=\"5mm\" fill=\"#C9C933\" stroke=\"none\" /><rect x=\"101.0mm\" y=\"0.0mm\" width=\"0.5mm\" height=\"5mm\" fill=\"#CACA37\" stroke=\"none\" /><rect x=\"101.5mm\" y=\"0.0mm\" width=\"0.5mm\" height=\"5mm\" fill=\"#CBCB3B\" stroke=\"none\" /><rect x=\"102.0mm\" y=\"0.0mm\" width=\"0.5mm\" height=\"5mm\" fill=\"#CCCC3F\" stroke=\"none\" /><rect x=\"102.5mm\" y=\"0.0mm\" width=\"0.5mm\" height=\"5mm\" fill=\"#CDCD42\" stroke=\"none\" /><rect x=\"103.0mm\" y=\"0.0mm\" width=\"0.5mm\" height=\"5mm\" fill=\"#CECE46\" stroke=\"none\" /><rect x=\"103.5mm\" y=\"0.0mm\" width=\"0.5mm\" height=\"5mm\" fill=\"#CFCF4A\" stroke=\"none\" /><rect x=\"104.0mm\" y=\"0.0mm\" width=\"0.5mm\" height=\"5mm\" fill=\"#D0D04E\" stroke=\"none\" /><rect x=\"104.5mm\" y=\"0.0mm\" width=\"0.5mm\" height=\"5mm\" fill=\"#D1D151\" stroke=\"none\" /><rect x=\"105.0mm\" y=\"0.0mm\" width=\"0.5mm\" height=\"5mm\" fill=\"#D2D255\" stroke=\"none\" /><rect x=\"105.5mm\" y=\"0.0mm\" width=\"0.5mm\" height=\"5mm\" fill=\"#D3D359\" stroke=\"none\" /><rect x=\"106.0mm\" y=\"0.0mm\" width=\"0.5mm\" height=\"5mm\" fill=\"#D4D45D\" stroke=\"none\" /><rect x=\"106.5mm\" y=\"0.0mm\" width=\"0.5mm\" height=\"5mm\" fill=\"#D5D561\" stroke=\"none\" /><rect x=\"107.0mm\" y=\"0.0mm\" width=\"0.5mm\" height=\"5mm\" fill=\"#D6D664\" stroke=\"none\" /><rect x=\"107.5mm\" y=\"0.0mm\" width=\"0.5mm\" height=\"5mm\" fill=\"#D7D768\" stroke=\"none\" /><rect x=\"108.0mm\" y=\"0.0mm\" width=\"0.5mm\" height=\"5mm\" fill=\"#D8D86C\" stroke=\"none\" /><rect x=\"108.5mm\" y=\"0.0mm\" width=\"0.5mm\" height=\"5mm\" fill=\"#D9D970\" stroke=\"none\" /><rect x=\"109.0mm\" y=\"0.0mm\" width=\"0.5mm\" height=\"5mm\" fill=\"#DADA73\" stroke=\"none\" /><rect x=\"109.5mm\" y=\"0.0mm\" width=\"0.5mm\" height=\"5mm\" fill=\"#DBDB77\" stroke=\"none\" /><rect x=\"110.0mm\" y=\"0.0mm\" width=\"0.5mm\" height=\"5mm\" fill=\"#DCDC7B\" stroke=\"none\" /><rect x=\"110.5mm\" y=\"0.0mm\" width=\"0.5mm\" height=\"5mm\" fill=\"#DDDD7F\" stroke=\"none\" /><rect x=\"111.0mm\" y=\"0.0mm\" width=\"0.5mm\" height=\"5mm\" fill=\"#DEDE82\" stroke=\"none\" /><rect x=\"111.5mm\" y=\"0.0mm\" width=\"0.5mm\" height=\"5mm\" fill=\"#DFDF86\" stroke=\"none\" /><rect x=\"112.0mm\" y=\"0.0mm\" width=\"0.5mm\" height=\"5mm\" fill=\"#E0E08A\" stroke=\"none\" /><rect x=\"112.5mm\" y=\"0.0mm\" width=\"0.5mm\" height=\"5mm\" fill=\"#E1E18E\" stroke=\"none\" /><rect x=\"113.0mm\" y=\"0.0mm\" width=\"0.5mm\" height=\"5mm\" fill=\"#E2E292\" stroke=\"none\" /><rect x=\"113.5mm\" y=\"0.0mm\" width=\"0.5mm\" height=\"5mm\" fill=\"#E3E395\" stroke=\"none\" /><rect x=\"114.0mm\" y=\"0.0mm\" width=\"0.5mm\" height=\"5mm\" fill=\"#E4E499\" stroke=\"none\" /><rect x=\"114.5mm\" y=\"0.0mm\" width=\"0.5mm\" height=\"5mm\" fill=\"#E5E59D\" stroke=\"none\" /><rect x=\"115.0mm\" y=\"0.0mm\" width=\"0.5mm\" height=\"5mm\" fill=\"#E6E6A1\" stroke=\"none\" /><rect x=\"115.5mm\" y=\"0.0mm\" width=\"0.5mm\" height=\"5mm\" fill=\"#E7E7A4\" stroke=\"none\" /><rect x=\"116.0mm\" y=\"0.0mm\" width=\"0.5mm\" height=\"5mm\" fill=\"#E8E8A8\" stroke=\"none\" /><rect x=\"116.5mm\" y=\"0.0mm\" width=\"0.5mm\" height=\"5mm\" fill=\"#E9E9AC\" stroke=\"none\" /><rect x=\"117.0mm\" y=\"0.0mm\" width=\"0.5mm\" height=\"5mm\" fill=\"#EAEAB0\" stroke=\"none\" /><rect x=\"117.5mm\" y=\"0.0mm\" width=\"0.5mm\" height=\"5mm\" fill=\"#EBEBB4\" stroke=\"none\" /><rect x=\"118.0mm\" y=\"0.0mm\" width=\"0.5mm\" height=\"5mm\" fill=\"#ECECB7\" stroke=\"none\" /><rect x=\"118.5mm\" y=\"0.0mm\" width=\"0.5mm\" height=\"5mm\" fill=\"#EDEDBB\" stroke=\"none\" /><rect x=\"119.0mm\" y=\"0.0mm\" width=\"0.5mm\" height=\"5mm\" fill=\"#EEEEBF\" stroke=\"none\" /><rect x=\"119.5mm\" y=\"0.0mm\" width=\"0.5mm\" height=\"5mm\" fill=\"#EFEFC3\" stroke=\"none\" /><rect x=\"120.0mm\" y=\"0.0mm\" width=\"0.5mm\" height=\"5mm\" fill=\"#F0F0C6\" stroke=\"none\" /><rect x=\"120.5mm\" y=\"0.0mm\" width=\"0.5mm\" height=\"5mm\" fill=\"#F1F1CA\" stroke=\"none\" /><rect x=\"121.0mm\" y=\"0.0mm\" width=\"0.5mm\" height=\"5mm\" fill=\"#F2F2CE\" stroke=\"none\" /><rect x=\"121.5mm\" y=\"0.0mm\" width=\"0.5mm\" height=\"5mm\" fill=\"#F3F3D2\" stroke=\"none\" /><rect x=\"122.0mm\" y=\"0.0mm\" width=\"0.5mm\" height=\"5mm\" fill=\"#F4F4D5\" stroke=\"none\" /><rect x=\"122.5mm\" y=\"0.0mm\" width=\"0.5mm\" height=\"5mm\" fill=\"#F5F5D9\" stroke=\"none\" /><rect x=\"123.0mm\" y=\"0.0mm\" width=\"0.5mm\" height=\"5mm\" fill=\"#F6F6DD\" stroke=\"none\" /><rect x=\"123.5mm\" y=\"0.0mm\" width=\"0.5mm\" height=\"5mm\" fill=\"#F7F7E1\" stroke=\"none\" /><rect x=\"124.0mm\" y=\"0.0mm\" width=\"0.5mm\" height=\"5mm\" fill=\"#F8F8E5\" stroke=\"none\" /><rect x=\"124.5mm\" y=\"0.0mm\" width=\"0.5mm\" height=\"5mm\" fill=\"#F9F9E8\" stroke=\"none\" /><rect x=\"125.0mm\" y=\"0.0mm\" width=\"0.5mm\" height=\"5mm\" fill=\"#FAFAEC\" stroke=\"none\" /><rect x=\"125.5mm\" y=\"0.0mm\" width=\"0.5mm\" height=\"5mm\" fill=\"#FBFBF0\" stroke=\"none\" /><rect x=\"126.0mm\" y=\"0.0mm\" width=\"0.5mm\" height=\"5mm\" fill=\"#FCFCF4\" stroke=\"none\" /><rect x=\"126.5mm\" y=\"0.0mm\" width=\"0.5mm\" height=\"5mm\" fill=\"#FDFDF7\" stroke=\"none\" /><rect x=\"127.0mm\" y=\"0.0mm\" width=\"0.5mm\" height=\"5mm\" fill=\"#FEFEFB\" stroke=\"none\" /><rect x=\"127.5mm\" y=\"0.0mm\" width=\"0.5mm\" height=\"5mm\" fill=\"#FFFFFF\" stroke=\"none\" /></svg>"
       ],
       "text": [
        "ColorMap \"gist_stern\""
       ]
      }
     ],
     "prompt_number": 2
    },
    {
     "cell_type": "code",
     "collapsed": false,
     "input": [
      "# load in the data\n",
      "hdulist = pyf.open(\"data/fits-image.fits\")"
     ],
     "language": "python",
     "metadata": {
      "slideshow": {
       "slide_type": "subslide"
      }
     },
     "outputs": [
      {
       "metadata": {},
       "output_type": "pyout",
       "prompt_number": 3,
       "text": [
        "1-element Array{Any,1}:\n",
        " PyObject <astropy.io.fits.hdu.image.PrimaryHDU object at 0x922be1ec>"
       ]
      }
     ],
     "prompt_number": 3
    },
    {
     "cell_type": "code",
     "collapsed": false,
     "input": [
      "# first and only HDU\n",
      "hdu = hdulist[1]\n",
      "header = hdu[:header]"
     ],
     "language": "python",
     "metadata": {
      "slideshow": {
       "slide_type": "-"
      }
     },
     "outputs": [
      {
       "metadata": {},
       "output_type": "pyout",
       "prompt_number": 4,
       "text": [
        "PyObject SIMPLE  =                    T / file does conform to FITS standard             \n",
        "BITPIX  =                  -32 / number of bits per data pixel                  \n",
        "NAXIS   =                    2 / number of data axes                            \n",
        "NAXIS1  =                  100 / length of data axis 1                          \n",
        "NAXIS2  =                  100 / length of data axis 2                          \n",
        "EXTEND  =                    T / FITS dataset may contain extensions            \n",
        "COMMENT   FITS (Flexible Image Transport System) format is defined in 'Astronomy\n",
        "COMMENT   and Astrophysics', volume 376, page 359; bibcode: 2001A&A...376..359H \n",
        "ORIGIN  = 'NOAO-IRAF FITS Image Kernel December 2001' / FITS file originator    \n",
        "DATE    = '2003-07-24T18:28:58' / Date FITS file was generated                  \n",
        "IRAF-TLM= '10:28:58 (24/07/2003)' / Time of last modification                   \n",
        "OBJECT  = 'U5780205B[1/4]'     / Name of the object observed                    \n",
        "CRVAL1  =      182.62570646887                                                  \n",
        "CRVAL2  =       39.41233768771                                                  \n",
        "CRPIX1  = -2.135000000000000E+02                                                \n",
        "CRPIX2  = -2.040000000000000E+02                                                \n",
        "CD1_1   =          2.756050E-5                                                  \n",
        "CD1_2   =         -2.082210E-6                                                  \n",
        "CD2_1   =         -2.080210E-6                                                  \n",
        "CD2_2   =         -2.758710E-5                                                  \n",
        "MIR_REVR=                    T                                                  \n",
        "ORIENTAT=             -174.798                                                  \n",
        "FILLCNT =                    0                                                  \n",
        "ERRCNT  =                    0                                                  \n",
        "FPKTTIME=         51229.799079                                                  \n",
        "LPKTTIME=         51229.799246                                                  \n",
        "CTYPE1  = 'RA---TAN'                                                            \n",
        "CTYPE2  = 'DEC--TAN'                                                            \n",
        "DETECTOR=                    4                                                  \n",
        "DEZERO  =             311.7072                                                  \n",
        "BIASEVEN=             311.7648                                                  \n",
        "BIASODD =             311.6496                                                  \n",
        "GOODMIN =            -3.289304                                                  \n",
        "GOODMAX =              3420.24                                                  \n",
        "DATAMEAN=            0.7084697                                                  \n",
        "GPIXELS =               628289                                                  \n",
        "SOFTERRS=                    0                                                  \n",
        "CALIBDEF=                 1816                                                  \n",
        "STATICD =                    0                                                  \n",
        "ATODSAT =                   57                                                  \n",
        "DATALOST=                    0                                                  \n",
        "BADPIXEL=                    0                                                  \n",
        "OVERLAP =                    0                                                  \n",
        "PHOTMODE= 'WFPC2,4,A2D7,FR533P15,,CAL                      '                    \n",
        "PHOTFLAM=         8.566962E-19                                                  \n",
        "PHOTZPT =                -21.1                                                  \n",
        "PHOTPLAM=             5782.972                                                  \n",
        "PHOTBW  =             2070.218                                                  \n",
        "MEDIAN  =          -0.06821804                                                  \n",
        "MEDSHADO=          -0.03253492                                                  \n",
        "HISTWIDE=            0.9845759                                                  \n",
        "SKEWNESS=            -4.585337                                                  \n",
        "MEANC10 =            0.1359666                                                  \n",
        "MEANC25 =           0.04015671                                                  \n",
        "MEANC50 =            0.1129934                                                  \n",
        "MEANC100=             1.897491                                                  \n",
        "MEANC200=            0.9687142                                                  \n",
        "MEANC300=              1.05377                                                  \n",
        "BACKGRND=            0.3467301                                                  \n",
        "FILETYPE= 'SCI      '          / type of data found in data file                \n",
        "                                                                                \n",
        "TELESCOP= 'HST'                / telescope used to acquire data                 \n",
        "INSTRUME= 'WFPC2 '             / identifier for instrument used to acquire data \n",
        "EQUINOX =               2000.0 / equinox of celestial coord. system             \n",
        "                                                                                \n",
        "              / WFPC-II DATA DESCRIPTOR KEYWORDS                                \n",
        "                                                                                \n",
        "ROOTNAME= 'u5780205r            ' / rootname of the observation set             \n",
        "PROCTIME=   5.284443195602E+04 / Pipeline processing time (MJD)                 \n",
        "OPUS_VER= 'OPUS 14.3b        ' / OPUS software system version number            \n",
        "CAL_VER = '                        ' / CALWP2 code version                      \n",
        "                                                                                \n",
        "              / SCIENCE INSTRUMENT CONFIGURATION                                \n",
        "                                                                                \n",
        "MODE    = 'FULL'               / instr. mode: FULL (full res.), AREA (area int.)\n",
        "SERIALS = 'OFF'                / serial clocks: ON, OFF                         \n",
        "                                                                                \n",
        "              / IMAGE TYPE CHARACTERISTICS                                      \n",
        "                                                                                \n",
        "IMAGETYP= 'EXT               ' / DARK/BIAS/IFLAT/UFLAT/VFLAT/KSPOT/EXT/ECAL     \n",
        "CDBSFILE= 'NO                ' / GENERIC/BIAS/DARK/PREF/FLAT/MASK/ATOD/NO       \n",
        "PKTFMT  =                   96 / packet format code                             \n",
        "                                                                                \n",
        "              / FILTER CONFIGURATION                                            \n",
        "                                                                                \n",
        "FILTNAM1= 'FR533P15'           / first filter name                              \n",
        "FILTNAM2= '        '           / second filter name                             \n",
        "FILTER1 =                   69 / first filter number (0-48)                     \n",
        "FILTER2 =                    0 / second filter number (0-48)                    \n",
        "FILTROT =                 15.0 / partial filter rotation angle (degrees)        \n",
        "LRFWAVE =          4877.000000 / linear ramp filter wavelength                  \n",
        "                                                                                \n",
        "              / INSTRUMENT STATUS USED IN DATA PROCESSING                       \n",
        "                                                                                \n",
        "UCH1CJTM=             -88.2569 / TEC cold junction #1 temperature (Celsius)     \n",
        "UCH2CJTM=             -88.6697 / TEC cold junction #2 temperature (Celsius)     \n",
        "UCH3CJTM=             -88.3028 / TEC cold junction #3 temperature (Celsius)     \n",
        "UCH4CJTM=             -88.7671 / TEC cold junction #4 temperature (Celsius)     \n",
        "UBAY3TMP=              13.2302 / bay 3 A1 temperature (deg C)                   \n",
        "KSPOTS  = 'OFF'                / Status of Kelsall spot lamps: ON, OFF          \n",
        "SHUTTER = 'A'                  / Shutter in place at beginning of the exposure  \n",
        "ATODGAIN=                  7.0 / Analog to Digital Gain (Electrons/DN)          \n",
        "                                                                                \n",
        "              / RSDP CONTROL KEYWORDS                                           \n",
        "                                                                                \n",
        "MASKCORR= 'COMPLETE'           / Do mask correction: PERFORM, OMIT, COMPLETE    \n",
        "ATODCORR= 'COMPLETE'           / Do A-to-D correction: PERFORM, OMIT, COMPLETE  \n",
        "BLEVCORR= 'COMPLETE'           / Do bias level correction                       \n",
        "BIASCORR= 'COMPLETE'           / Do bias correction: PERFORM, OMIT, COMPLETE    \n",
        "DARKCORR= 'COMPLETE'           / Do dark correction: PERFORM, OMIT, COMPLETE    \n",
        "FLATCORR= 'SKIPPED '           / Do flat field correction                       \n",
        "SHADCORR= 'OMIT    '           / Do shaded shutter correction                   \n",
        "DOSATMAP= 'OMIT    '           / Output saturated pixel map                     \n",
        "DOPHOTOM= 'COMPLETE'           / Fill photometry keywords                       \n",
        "DOHISTOS= 'OMIT    '           / Make histograms: PERFORM, OMIT, COMPLETE       \n",
        "OUTDTYPE= 'REAL  '             / Output image datatype: REAL, LONG, SHORT       \n",
        "                                                                                \n",
        "              / CALIBRATION REFERENCE FILES                                     \n",
        "                                                                                \n",
        "MASKFILE= 'uref$f8213081u.r0h     ' / name of the input DQF of known bad pixels \n",
        "ATODFILE= 'uref$dbu1405iu.r1h'      / name of the A-to-D conversion file        \n",
        "BLEVFILE= 'ucal$u5780205r.x0h     ' / Engineering file with extended register da\n",
        "BLEVDFIL= 'ucal$u5780205r.q1h     ' / Engineering file DQF                      \n",
        "BIASFILE= 'uref$j9a1612mu.r2h'      / name of the bias frame reference file     \n",
        "BIASDFIL= 'uref$j9a1612mu.b2h'      / name of the bias frame reference DQF      \n",
        "DARKFILE= 'uref$j2g1549cu.r3h'      / name of the dark reference file           \n",
        "DARKDFIL= 'uref$j2g1549cu.b3h'      / name of the dark reference DQF            \n",
        "FLATFILE= 'uref$f4i1559cu.r4h'      / name of the flat field reference file     \n",
        "FLATDFIL= 'uref$f4i1559cu.b4h'      / name of the flat field reference DQF      \n",
        "SHADFILE= 'uref$e371355eu.r5h'      / name of the reference file for shutter sha\n",
        "PHOTTAB = '                       ' / name of the photometry calibration table  \n",
        "GRAPHTAB= 'mtab$n3d14531m_tmg.fits' / the HST graph table                       \n",
        "COMPTAB = 'mtab$n431303km_tmc.fits' / the HST components table                  \n",
        "                                                                                \n",
        "              / DEFAULT KEYWORDS SET BY STSCI                                   \n",
        "                                                                                \n",
        "SATURATE=                 4095 / Data value at which saturation occurs          \n",
        "USCALE  =                  1.0 / Scale factor for output image                  \n",
        "UZERO   =                  0.0 / Zero point for output image                    \n",
        "                                                                                \n",
        "              / READOUT DURATION INFORMATION                                    \n",
        "                                                                                \n",
        "READTIME=                  464 / Length of time for CCD readout in clock ticks  \n",
        "                                                                                \n",
        "              / PLANETARY SCIENCE KEYWORDS                                      \n",
        "                                                                                \n",
        "PA_V3   =            49.936909 / position angle of V3-axis of HST (deg)         \n",
        "RA_SUN  =   3.337194516616E+02 / right ascension of the sun (deg)               \n",
        "DEC_SUN =  -1.086675160382E+01 / declination of the sun (deg)                   \n",
        "EQNX_SUN=               2000.0 / equinox of the sun                             \n",
        "MTFLAG  =                    F / moving target flag; T if it is a moving target \n",
        "EQRADTRG=             0.000000 / equatorial radius of target (km)               \n",
        "FLATNTRG=             0.000000 / flattening of target                           \n",
        "NPDECTRG=             0.000000 / north pole declination of target (deg)         \n",
        "NPRATRG =             0.000000 / north pole right ascension of target (deg)     \n",
        "ROTRTTRG=             0.000000 / rotation rate of target                        \n",
        "LONGPMER=             0.000000 / longitude of prime meridian (deg)              \n",
        "EPLONGPM=             0.000000 / epoch of longitude of prime meridian (sec)     \n",
        "SURFLATD=             0.000000 / surface feature latitude (deg)                 \n",
        "SURFLONG=             0.000000 / surface feature longitude (deg)                \n",
        "SURFALTD=             0.000000 / surface feature altitude (km)                  \n",
        "                                                                                \n",
        "              / PODPS FILL VALUES                                               \n",
        "                                                                                \n",
        "PODPSFF =                    0 / 0=(no  podps fill); 1=(podps fill present)     \n",
        "STDCFFF =                    0 / 0=(no st dcf fill); 1=(st dcf fill present)    \n",
        "STDCFFP = '0x5569'             / st dcf fill pattern (hex)                      \n",
        "RSDPFILL=                 -100 / bad data fill value for calibrated images      \n",
        "                                                                                \n",
        "              / EXPOSURE TIME AND RELATED INFORMATION                           \n",
        "                                                                                \n",
        "UEXPODUR=                  300 / commanded duration of exposure (sec)           \n",
        "NSHUTA17=                    1 / Number of AP17 shutter B closes                \n",
        "DARKTIME=   3.000000000000E+02 / Dark time (seconds)                            \n",
        "UEXPOTIM=                16880 / Major frame pulse time preceding exposure start\n",
        "PSTRTIME= '1999.051:19:08:37 ' / predicted obs. start time (yyyy.ddd:hh:mm:ss)  \n",
        "PSTPTIME= '1999.051:19:16:37 ' / predicted obs. stop time (yyyy.ddd:hh:mm:ss)   \n",
        "                                                                                \n",
        "              / EXPOSURE INFORMATION                                            \n",
        "                                                                                \n",
        "SUNANGLE=           141.618347 / angle between sun and V1 axis                  \n",
        "MOONANGL=           126.698997 / angle between moon and V1 axis                 \n",
        "SUN_ALT =           -31.523479 / altitude of the sun above Earth's limb         \n",
        "FGSLOCK = 'FINE              ' / commanded FGS lock (FINE,COARSE,GYROS,UNKNOWN) \n",
        "                                                                                \n",
        "DATE-OBS= '1999-02-20'         / UT date of start of observation (yyyy-mm-dd)   \n",
        "TIME-OBS= '19:03:13'           / UT time of start of observation (hh:mm:ss)     \n",
        "EXPSTART=   5.122979390428E+04 / exposure start time (Modified Julian Date)     \n",
        "EXPEND  =   5.122979737650E+04 / exposure end time (Modified Julian Date)       \n",
        "EXPTIME =                 300. / exposure duration (seconds)--calculated        \n",
        "EXPFLAG = 'NORMAL       '      / Exposure interruption indicator                \n",
        "                                                                                \n",
        "              / TARGET & PROPOSAL ID                                            \n",
        "TARGNAME= 'NGC4151                       ' / proposer's target name             \n",
        "RA_TARG =   1.826355000000E+02 / right ascension of the target (deg) (J2000)    \n",
        "DEC_TARG=   3.940576666667E+01 / declination of the target (deg) (J2000)        \n",
        "ECL_LONG=           164.096619 / ecliptic longitude of the target (deg) (J2000) \n",
        "ECL_LAT =            36.623709 / ecliptic latitude of the target (deg) (J2000)  \n",
        "GAL_LONG=           155.079532 / galactic longitude of the target (deg) (J2000) \n",
        "GAL_LAT =            75.062679 / galactic latitude of the target (deg) (J2000)  \n",
        "                                                                                \n",
        "PROPOSID=                 8019 / PEP proposal identifier                        \n",
        "PEP_EXPO= '02-030         '    / PEP exposure identifier including sequence     \n",
        "LINENUM = '02.030         '    / PEP proposal line number                       \n",
        "SEQLINE = '               '    / PEP line number of defined sequence            \n",
        "SEQNAME = '               '    / PEP define/use sequence name                   \n",
        "HISTORY   MASKFILE=uref$f8213081u.r0h  MASKCORR=COMPLETED                       \n",
        "HISTORY   PEDIGREE=INFLIGHT 01/01/1994 - 15/05/1995                             \n",
        "HISTORY   DESCRIP=STATIC MASK - INCLUDES CHARGE TRANSFER TRAPS                  \n",
        "HISTORY   BIASFILE=uref$j9a1612mu.r2h  BIASCORR=COMPLETED                       \n",
        "HISTORY   PEDIGREE=INFLIGHT 29/08/98 - 21/08/99                                 \n",
        "HISTORY   DESCRIP=not significantly different from j6e16008u.                   \n",
        "HISTORY   DARKFILE=uref$j2g1549cu.r3h  DARKCORR=COMPLETED                       \n",
        "HISTORY   PEDIGREE=INFLIGHT 16/02/1999 - 16/02/1999                             \n",
        "HISTORY   DESCRIP=Pipeline dark: 120 frame superdark with hotpixels from        \n",
        "HISTORY   16/02/99                                                              \n",
        "HISTORY   FLATFILE=uref$f4i1559cu.r4h  FLATCORR=SKIPPED                         \n",
        "HISTORY   PEDIGREE=DUMMY  18/04/1995                                            \n",
        "HISTORY   DESCRIP=All pixels set to value of 1. Not flat-fielded.               \n",
        "HISTORY   PC1: bias jump level ~0.100 DN.                                       \n",
        "HISTORY   The following throughput tables were used:                            \n",
        "HISTORY   crotacomp$hst_ota_007_syn.fits, crwfpc2comp$wfpc2_optics_006_syn.fits,\n",
        "HISTORY   crwfpc2comp$wfpc2_dqepc1_005_syn.fits,                                \n",
        "HISTORY   crwfpc2comp$wfpc2_a2d7pc1_004_syn.fits,                               \n",
        "HISTORY   crwfpc2comp$wfpc2_flatpc1_003_syn.fits                                \n",
        "HISTORY   The following throughput tables were used:                            \n",
        "HISTORY   crotacomp$hst_ota_007_syn.fits, crwfpc2comp$wfpc2_optics_006_syn.fits,\n",
        "HISTORY   crwfpc2comp$wfpc2_dqewfc2_005_syn.fits,                               \n",
        "HISTORY   crwfpc2comp$wfpc2_a2d7wf2_004_syn.fits,                               \n",
        "HISTORY   crwfpc2comp$wfpc2_flatwf2_003_syn.fits                                \n",
        "HISTORY   The following throughput tables were used:                            \n",
        "HISTORY   crotacomp$hst_ota_007_syn.fits, crwfpc2comp$wfpc2_optics_006_syn.fits,\n",
        "HISTORY   crwfpc2comp$wfpc2_dqewfc3_005_syn.fits,                               \n",
        "HISTORY   crwfpc2comp$wfpc2_a2d7wf3_004_syn.fits,                               \n",
        "HISTORY   crwfpc2comp$wfpc2_flatwf3_003_syn.fits                                \n",
        "HISTORY   The following throughput tables were used:                            \n",
        "HISTORY   crotacomp$hst_ota_007_syn.fits, crwfpc2comp$wfpc2_optics_006_syn.fits,\n",
        "HISTORY   crwfpc2comp$wfpc2_dqewfc4_005_syn.fits,                               \n",
        "HISTORY   crwfpc2comp$wfpc2_a2d7wf4_004_syn.fits,                               \n",
        "HISTORY   crwfpc2comp$wfpc2_flatwf4_003_syn.fits                                \n",
        "HISTORY   Ran task WARMPIX, version 1.1 (Sep 28, 1999) at Thu 10:24:40          \n",
        "HISTORY   24-Jul-2003, rej_thresh=0.10000, fix_thresh=0.00300,                  \n",
        "HISTORY   var_thresh=0.00300,                                                   \n",
        "HISTORY   fix_dqval=1024, rej_val=INDEF                                         \n",
        "SKYSUB1 =                   0. / Sky value for chip 1                           \n",
        "PYS_VERS=                  1.8 / PyStack.py: Version                            \n",
        "IRAF_I  = 'IRAF V2.12.1 July 2002 release:2.12'                                 \n",
        "STAC_I  = '$RCSfile: imstack_imshift_imcomb.cl,v $ $Revision: 1.1 $'            \n",
        "PYS_ITER=                    5 / PyStack.py: Number of iterations               \n",
        "PYS_HEXP=                    2 / PyStack.py: Value of exponent                  \n",
        "SKYSUB2 =                 0.01 / Sky value for chip 2                           \n",
        "SKYSUB3 =                -0.08 / Sky value for chip 3                           \n",
        "SKYSUB4 =                -0.03 / Sky value for chip 4                           \n",
        "NCOMBINE=                    2 / Number of exposures for this association       \n",
        "HISTORY   Ran task WMOSAIC, version 2.1 (Jun 1995), at Thu 10:28:58 24-Jul-2003 \n",
        "COMMENT                                                                         \n",
        "COMMENT                                                                         "
       ]
      }
     ],
     "prompt_number": 4
    },
    {
     "cell_type": "code",
     "collapsed": false,
     "input": [
      "pyimdata = hdu[:data]\n",
      "# needed to get this work on my machine\n",
      "imdata = reshape(pyimdata[:flatten](), (100,100));"
     ],
     "language": "python",
     "metadata": {
      "slideshow": {
       "slide_type": "subslide"
      }
     },
     "outputs": [],
     "prompt_number": 5
    },
    {
     "cell_type": "code",
     "collapsed": false,
     "input": [
      "imshow(imdata, cmap=cmap, interpolation=\"bicubic\")"
     ],
     "language": "python",
     "metadata": {
      "slideshow": {
       "slide_type": "subslide"
      }
     },
     "outputs": [
      {
       "metadata": {},
       "output_type": "display_data",
       "png": "[encoded data removed]",
       "text": [
        "PyPlot.Figure(PyObject <matplotlib.figure.Figure object at 0x922be26c>)"
       ]
      },
      {
       "metadata": {},
       "output_type": "pyout",
       "prompt_number": 6,
       "text": [
        "PyObject <matplotlib.image.AxesImage object at 0x8644ecec>"
       ]
      }
     ],
     "prompt_number": 6
    },
    {
     "cell_type": "code",
     "collapsed": false,
     "input": [
      "# get the minimum pixel value\n",
      "minimum(imdata)"
     ],
     "language": "python",
     "metadata": {
      "slideshow": {
       "slide_type": "subslide"
      }
     },
     "outputs": [
      {
       "metadata": {},
       "output_type": "pyout",
       "prompt_number": 7,
       "text": [
        "-1.8990651f0"
       ]
      }
     ],
     "prompt_number": 7
    },
    {
     "cell_type": "code",
     "collapsed": false,
     "input": [
      "# get the position of the brightest pixel(s)\n",
      "brightest = maximum(imdata)\n",
      "find(x -> x==brightest, imdata)"
     ],
     "language": "python",
     "metadata": {},
     "outputs": [
      {
       "metadata": {},
       "output_type": "pyout",
       "prompt_number": 8,
       "text": [
        "1-element Array{Int32,1}:\n",
        " 984"
       ]
      }
     ],
     "prompt_number": 8
    },
    {
     "cell_type": "code",
     "collapsed": false,
     "input": [
      "# the find command gives single indexes: turn it into coords using ind2sub\n",
      "ind2sub(imdata, 984)"
     ],
     "language": "python",
     "metadata": {},
     "outputs": [
      {
       "metadata": {},
       "output_type": "pyout",
       "prompt_number": 9,
       "text": [
        "(84,10)"
       ]
      }
     ],
     "prompt_number": 9
    },
    {
     "cell_type": "code",
     "collapsed": false,
     "input": [
      "# find all the negative pixels\n",
      "negatives = find(x -> x<0, imdata)\n",
      "\n",
      "# copy the array and set those pixels to 0\n",
      "newimdata = copy(imdata)\n",
      "newimdata[negatives] = 0\n",
      "pyimdata = PyObject(newimdata)\n",
      "\n",
      "# write back to file\n",
      "pyf.writeto(\"data/new-image.fits\", pyimdata, header, clobber=true)"
     ],
     "language": "python",
     "metadata": {
      "slideshow": {
       "slide_type": "subslide"
      }
     },
     "outputs": [],
     "prompt_number": 10
    }
   ],
   "metadata": {}
  }
 ]
}