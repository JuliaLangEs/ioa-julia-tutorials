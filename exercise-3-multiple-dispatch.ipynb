{
 "metadata": {
  "language": "Julia",
  "name": "",
  "signature": "sha256:fbe7b4bb21beb21880764fc9b551dfdff41f354f894ae26f7a4113b967cefc52"
 },
 "nbformat": 3,
 "nbformat_minor": 0,
 "worksheets": [
  {
   "cells": [
    {
     "cell_type": "code",
     "collapsed": false,
     "input": [],
     "language": "python",
     "metadata": {},
     "outputs": []
    }
   ],
   "metadata": {}
  }
 ]
}