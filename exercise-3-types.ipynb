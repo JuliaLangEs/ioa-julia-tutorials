{
 "cells": [
  {
   "cell_type": "markdown",
   "metadata": {
    "slideshow": {
     "slide_type": "slide"
    }
   },
   "source": [
    "# Exercise 3: Using types - a simple N-body in 80 lines\n",
    "\n",
    "Julia makes it easy to write your own types, which are similar to structs in C-family languages. Multiple dispatch adds a powerful way to handle tasks like default values or different behaviours really easily.\n",
    "\n",
    "Here we'll look at how you could construct a simple N-body code. We'll assume everything has mass 1 to keep it simple.\n",
    "\n",
    "Tasks:\n",
    "* define an abstract type representing the bodies in the simulation\n",
    "* define subtypes of this representing two different kinds of bodies in 2D: a moving body and a fixed body\n",
    "* define a type which holds all the bodies in the simulation\n",
    "* make a few of these bodies in various positions to start\n",
    "* write a movement function to move the bodies as necessary\n",
    "* write a force function to give an inverse square law force between bodies\n",
    "* write an acceleration function to apply gravity to the bodies\n",
    "* write a step function to bring it all together (acceleration and movement)\n",
    "\n",
    "Extras:\n",
    "* write plot functions for individual points and for the whole system\n",
    "* plot it and watch the carnage"
   ]
  },
  {
   "cell_type": "markdown",
   "metadata": {
    "slideshow": {
     "slide_type": "slide"
    }
   },
   "source": [
    "## Define an abstract type representing the bodies in the simulation\n",
    "\n",
    "This code block demonstrates how to define an abstract type: a type whose only purpose is to encompass other types."
   ]
  },
  {
   "cell_type": "code",
   "execution_count": 1,
   "metadata": {
    "collapsed": true,
    "slideshow": {
     "slide_type": "-"
    }
   },
   "outputs": [],
   "source": [
    "abstract Body"
   ]
  },
  {
   "cell_type": "markdown",
   "metadata": {
    "slideshow": {
     "slide_type": "subslide"
    }
   },
   "source": [
    "## Define subtypes of this representing moving and fixed bodies in 2D\n",
    "\n",
    "This code block demonstrates how to define \"concrete types\" which actually contain values. We declare two types, MovingBody and FixedBody, and make them subtypes of Body (by writing **`<: Body`**). We also write a function `MovingBody(x,y)` which makes a MovingBody that defaults to zero movement."
   ]
  },
  {
   "cell_type": "code",
   "execution_count": 2,
   "metadata": {
    "collapsed": false,
    "slideshow": {
     "slide_type": "-"
    }
   },
   "outputs": [],
   "source": [
    "type MovingBody <: Body\n",
    "    x::Float64\n",
    "    y::Float64\n",
    "    dx::Float64\n",
    "    dy::Float64\n",
    "end\n",
    "MovingBody(x, y) = MovingBody(x, y, 0, 0)\n",
    "\n",
    "type FixedBody <: Body\n",
    "    x::Float64\n",
    "    y::Float64\n",
    "end"
   ]
  },
  {
   "cell_type": "markdown",
   "metadata": {
    "slideshow": {
     "slide_type": "subslide"
    }
   },
   "source": [
    "## Define a type which holds all the bodies in the simulation\n",
    "\n",
    "This code block demonstrates the syntex to use when specifying the types of arrays. We could have written `Array{Body, 1}` to specify a 1D array containing `Body` types, but `Vector{Body}` is a slightly shorter way of writing the same thing."
   ]
  },
  {
   "cell_type": "code",
   "execution_count": 3,
   "metadata": {
    "collapsed": false,
    "slideshow": {
     "slide_type": "-"
    }
   },
   "outputs": [],
   "source": [
    "type System\n",
    "    bodies::Vector{Body}\n",
    "end"
   ]
  },
  {
   "cell_type": "markdown",
   "metadata": {
    "slideshow": {
     "slide_type": "subslide"
    }
   },
   "source": [
    "## Make a few of these in various positions to start\n",
    "\n",
    "This code block demonstrates how we can make instances of the body types we just defined. It's nice to put as much of this in a function as possible."
   ]
  },
  {
   "cell_type": "code",
   "execution_count": 4,
   "metadata": {
    "collapsed": false,
    "slideshow": {
     "slide_type": "-"
    }
   },
   "outputs": [
    {
     "data": {
      "text/plain": [
       "System(Body[FixedBody(0.0,0.0),MovingBody(1.0,0.0,0.0,0.0),MovingBody(1.0,1.0,1.0,1.0),MovingBody(0.0,1.0,1.0,-1.0)])"
      ]
     },
     "execution_count": 4,
     "metadata": {},
     "output_type": "execute_result"
    }
   ],
   "source": [
    "function setup()\n",
    "    p1 = FixedBody(0,0)\n",
    "    p2 = MovingBody(1,0) # defaults to no motion ... like writing MovingBody(1,0,0,0)\n",
    "    p3 = MovingBody(1,1,1,1)\n",
    "    p4 = MovingBody(0,1,1,-1)\n",
    "    bodies = [p1, p2, p3, p4]\n",
    "    \n",
    "    System(bodies)\n",
    "end\n",
    "\n",
    "sys = setup()"
   ]
  },
  {
   "cell_type": "markdown",
   "metadata": {
    "slideshow": {
     "slide_type": "subslide"
    }
   },
   "source": [
    "## Write a movement function to move the bodies as necessary\n",
    "\n",
    "The convention in Julia is to put a ! on the end of the function name if it modifies its arguments. Since we're actually changing the body here (we alter the body's x and y positions), we call the function **`move!`**."
   ]
  },
  {
   "cell_type": "code",
   "execution_count": 5,
   "metadata": {
    "collapsed": false,
    "slideshow": {
     "slide_type": "-"
    }
   },
   "outputs": [
    {
     "data": {
      "text/plain": [
       "move! (generic function with 2 methods)"
      ]
     },
     "execution_count": 5,
     "metadata": {},
     "output_type": "execute_result"
    }
   ],
   "source": [
    "const dt = 0.1  # declare it as const because it's not in a function\n",
    "\n",
    "function move!(b::MovingBody)\n",
    "    b.x += b.dx * dt\n",
    "    b.y += b.dy * dt\n",
    "    \n",
    "    b # we return the body here - its coordinates have now been altered\n",
    "end\n",
    "\n",
    "move!(b::FixedBody) = b"
   ]
  },
  {
   "cell_type": "markdown",
   "metadata": {
    "slideshow": {
     "slide_type": "subslide"
    }
   },
   "source": [
    "See how we just wrote a second version of **`move!`** but defined it to only be applicable to a FixedBody? Now we can call **`move!`** on either a MovingBody or a FixedBody and know that it will behave appropriately.\n",
    "\n",
    "## Write a force function to give an inverse square law force between bodies\n",
    "\n",
    "This code block shows how you can use Unicode characters like ² (type `\\^2` and press <kbd>Tab</kbd>) in variable names to make them more compehensible."
   ]
  },
  {
   "cell_type": "code",
   "execution_count": 6,
   "metadata": {
    "collapsed": false,
    "slideshow": {
     "slide_type": "-"
    }
   },
   "outputs": [
    {
     "data": {
      "text/plain": [
       "force (generic function with 1 method)"
      ]
     },
     "execution_count": 6,
     "metadata": {},
     "output_type": "execute_result"
    }
   ],
   "source": [
    "function force(b1::Body, b2::Body)\n",
    "    dx = b2.x - b1.x\n",
    "    dy = b2.y - b1.y\n",
    "    d² = dx^2 + dy^2 + 1e-9  # we add a 1e-9 softening term to avoid dividing by zero\n",
    "    inv_d² = 1 / d²\n",
    "    Fx = dx * inv_d²\n",
    "    Fy = dy * inv_d²\n",
    "    \n",
    "    Fx, Fy\n",
    "end"
   ]
  },
  {
   "cell_type": "markdown",
   "metadata": {
    "slideshow": {
     "slide_type": "subslide"
    }
   },
   "source": [
    "## Write an acceleration function to apply gravity to the bodies\n",
    "\n",
    "This function needs to include the system (group of bodies) as an argument, because each body is affected by the gravity of all other bodies in the system. Another option would be to make `sys`, the `System`, a global variable. But this option is nicer style and lets us make multiple `System`s if we want."
   ]
  },
  {
   "cell_type": "code",
   "execution_count": 7,
   "metadata": {
    "collapsed": false,
    "slideshow": {
     "slide_type": "-"
    }
   },
   "outputs": [
    {
     "data": {
      "text/plain": [
       "accelerate! (generic function with 2 methods)"
      ]
     },
     "execution_count": 7,
     "metadata": {},
     "output_type": "execute_result"
    }
   ],
   "source": [
    "function accelerate!(sys::System, b::MovingBody)\n",
    "    d2x = 0.0\n",
    "    d2y = 0.0\n",
    "    for other in sys.bodies\n",
    "        if b !== other\n",
    "            Fx, Fy = force(b, other)\n",
    "            d2x += Fx\n",
    "            d2y += Fy\n",
    "        end\n",
    "    end\n",
    "    b.dx += d2x * dt\n",
    "    b.dy += d2y * dt\n",
    "    \n",
    "    b\n",
    "end\n",
    "\n",
    "accelerate!(sys::System, b::FixedBody) = b"
   ]
  },
  {
   "cell_type": "markdown",
   "metadata": {
    "slideshow": {
     "slide_type": "subslide"
    }
   },
   "source": [
    "## Write a step function to bring it all together\n",
    "\n",
    "By this stage, the step function is really simple to write. We write two versions: one which steps an individual particle, and one which calls the same function but on every particle in a system."
   ]
  },
  {
   "cell_type": "code",
   "execution_count": 8,
   "metadata": {
    "collapsed": false,
    "slideshow": {
     "slide_type": "-"
    }
   },
   "outputs": [
    {
     "data": {
      "text/plain": [
       "step! (generic function with 2 methods)"
      ]
     },
     "execution_count": 8,
     "metadata": {},
     "output_type": "execute_result"
    }
   ],
   "source": [
    "function step!(sys::System, b::Body)\n",
    "    accelerate!(sys, b)\n",
    "    move!(b)\n",
    "end\n",
    "\n",
    "function step!(sys::System)\n",
    "    for b in sys.bodies\n",
    "        step!(sys, b)\n",
    "    end\n",
    "end"
   ]
  },
  {
   "cell_type": "markdown",
   "metadata": {
    "slideshow": {
     "slide_type": "slide"
    }
   },
   "source": [
    "## Extra: plot functions to plot individual points and the system\n",
    "\n",
    "Since the `plot` and `scatter` (etc) commands from Matplotlib overlay plots by default, we can take advantage of this by writing different `plot` commands for different points. We make fixed things red, moving things black with direction arrows, and then write a third `plot` command to plot everything in the system by just calling `plot` on each individual point."
   ]
  },
  {
   "cell_type": "code",
   "execution_count": 9,
   "metadata": {
    "collapsed": false,
    "slideshow": {
     "slide_type": "-"
    }
   },
   "outputs": [
    {
     "name": "stderr",
     "output_type": "stream",
     "text": [
      "INFO: Loading help data...\n"
     ]
    },
    {
     "data": {
      "text/plain": [
       "plot (generic function with 3 methods)"
      ]
     },
     "execution_count": 9,
     "metadata": {},
     "output_type": "execute_result"
    }
   ],
   "source": [
    "using PyPlot\n",
    "\n",
    "function plot(b::FixedBody)\n",
    "    scatter(b.x, b.y, s=50, color=\"Red\")\n",
    "end\n",
    "\n",
    "function plot(b::MovingBody)\n",
    "    scatter(b.x, b.y, s=50, color=\"Black\")\n",
    "    arrow(b.x, b.y, b.dx * dt/2, b.dy * dt/2, facecolor=\"Black\")\n",
    "end\n",
    "\n",
    "function plot(s::System)\n",
    "    for b in s.bodies\n",
    "        plot(b)\n",
    "    end\n",
    "    axis(\"equal\")\n",
    "end"
   ]
  },
  {
   "cell_type": "code",
   "execution_count": 11,
   "metadata": {
    "collapsed": false,
    "slideshow": {
     "slide_type": "subslide"
    }
   },
   "outputs": [
    {
     "data": {
      "image/png": "[encoded data removed]",
      "text/plain": [
       "Figure(PyObject <matplotlib.figure.Figure object at 0x7f5d7c008810>)"
      ]
     },
     "metadata": {},
     "output_type": "display_data"
    },
    {
     "data": {
      "text/plain": [
       "(-0.2,1.2000000000000002,-0.2,1.2000000000000002)"
      ]
     },
     "execution_count": 11,
     "metadata": {},
     "output_type": "execute_result"
    }
   ],
   "source": [
    "sys = setup()\n",
    "plot(sys)"
   ]
  },
  {
   "cell_type": "markdown",
   "metadata": {},
   "source": [
    "## Watch the carnage\n",
    "\n",
    "Here's what that looks like if we plot the system over 5 time units. By overplotting, we build up a simple trajectory."
   ]
  },
  {
   "cell_type": "code",
   "execution_count": 12,
   "metadata": {
    "collapsed": false,
    "slideshow": {
     "slide_type": "subslide"
    }
   },
   "outputs": [
    {
     "data": {
      "image/png": "[encoded data removed]",
      "text/plain": [
       "Figure(PyObject <matplotlib.figure.Figure object at 0x7f5d7bf4d4d0>)"
      ]
     },
     "metadata": {},
     "output_type": "display_data"
    }
   ],
   "source": [
    "for t = 0:dt:5\n",
    "    plot(sys)\n",
    "    step!(sys)\n",
    "end"
   ]
  }
 ],
 "metadata": {
  "kernelspec": {
   "display_name": "Julia 0.3.6",
   "language": "julia",
   "name": "julia 0.3"
  },
  "language_info": {
   "name": "julia",
   "version": "0.3.6"
  }
 },
 "nbformat": 4,
 "nbformat_minor": 0
}
